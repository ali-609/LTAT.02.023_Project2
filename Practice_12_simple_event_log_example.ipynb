{
 "cells": [
  {
   "cell_type": "markdown",
   "metadata": {
    "id": "34VNobkf21uo"
   },
   "source": [
    "### Hiring data example"
   ]
  },
  {
   "cell_type": "code",
   "execution_count": 19,
   "metadata": {
    "id": "hywIy3U94ibL"
   },
   "outputs": [],
   "source": [
    "!pip install pm4py --quiet"
   ]
  },
  {
   "cell_type": "code",
   "execution_count": 20,
   "metadata": {
    "id": "z21ZjsCn21us"
   },
   "outputs": [],
   "source": [
    "import pandas as pd\n",
    "from pm4py.objects.log.util import dataframe_utils\n",
    "from pm4py.objects.conversion.log import converter as log_converter\n",
    "from pm4py.algo.discovery.alpha import algorithm as alpha_miner\n",
    "from pm4py.visualization.petri_net import visualizer as pn_visualizer\n",
    "\n"
   ]
  },
  {
   "cell_type": "code",
   "execution_count": 21,
   "metadata": {
    "id": "S2mRa0k021uu"
   },
   "outputs": [],
   "source": [
    "# Sample hiring process data\n",
    "hiring_data = [\n",
    "    {\"candidate_id\": 1, \"step\": \"Job Application\", \"timestamp\": \"2024-11-01 09:00:00\"},\n",
    "    {\"candidate_id\": 1, \"step\": \"CV Selected\", \"timestamp\": \"2024-11-02 10:00:00\"},\n",
    "    {\"candidate_id\": 1, \"step\": \"First Screening\", \"timestamp\": \"2024-11-03 15:00:00\"},\n",
    "    {\"candidate_id\": 1, \"step\": \"HR Interview\", \"timestamp\": \"2024-11-05 14:00:00\"},\n",
    "    {\"candidate_id\": 1, \"step\": \"Team Lead Interview\", \"timestamp\": \"2024-11-06 16:00:00\"},\n",
    "    {\"candidate_id\": 1, \"step\": \"Head of Dept Interview\", \"timestamp\": \"2024-11-08 11:00:00\"},\n",
    "    {\"candidate_id\": 1, \"step\": \"Offer\", \"timestamp\": \"2024-11-09 10:00:00\"},\n",
    "    {\"candidate_id\": 1, \"step\": \"Accepted\", \"timestamp\": \"2024-11-10 09:00:00\"},\n",
    "\n",
    "    {\"candidate_id\": 2, \"step\": \"Job Application\", \"timestamp\": \"2024-11-01 12:00:00\"},\n",
    "    {\"candidate_id\": 2, \"step\": \"CV Selected\", \"timestamp\": \"2024-11-03 13:00:00\"},\n",
    "    {\"candidate_id\": 2, \"step\": \"First Screening\", \"timestamp\": \"2024-11-04 09:00:00\"},\n",
    "    {\"candidate_id\": 2, \"step\": \"HR Interview\", \"timestamp\": \"2024-11-05 10:00:00\"},\n",
    "    {\"candidate_id\": 2, \"step\": \"Team Lead Interview\", \"timestamp\": \"2024-11-07 10:00:00\"},\n",
    "    {\"candidate_id\": 2, \"step\": \"Head of Dept Interview\", \"timestamp\": \"2024-11-09 15:00:00\"},\n",
    "    {\"candidate_id\": 2, \"step\": \"No Offer\", \"timestamp\": \"2024-11-10 18:00:00\"},\n",
    "\n",
    "    {\"candidate_id\": 3, \"step\": \"Job Application\", \"timestamp\": \"2024-11-02 08:00:00\"},\n",
    "    {\"candidate_id\": 3, \"step\": \"CV Selected\", \"timestamp\": \"2024-11-03 09:30:00\"},\n",
    "    {\"candidate_id\": 3, \"step\": \"First Screening\", \"timestamp\": \"2024-11-04 14:00:00\"},\n",
    "    {\"candidate_id\": 3, \"step\": \"HR Interview\", \"timestamp\": \"2024-11-06 13:00:00\"},\n",
    "    {\"candidate_id\": 3, \"step\": \"Team Lead Interview\", \"timestamp\": \"2024-11-07 16:00:00\"},\n",
    "    {\"candidate_id\": 3, \"step\": \"Head of Dept Interview\", \"timestamp\": \"2024-11-09 11:00:00\"},\n",
    "    {\"candidate_id\": 3, \"step\": \"Offer\", \"timestamp\": \"2024-11-10 14:00:00\"},\n",
    "    {\"candidate_id\": 3, \"step\": \"Declined\", \"timestamp\": \"2024-11-11 10:00:00\"}\n",
    "]\n",
    "\n"
   ]
  },
  {
   "cell_type": "code",
   "execution_count": 22,
   "metadata": {
    "colab": {
     "base_uri": "https://localhost:8080/"
    },
    "id": "YLKDudjK21uu",
    "outputId": "90c59049-d6f2-42a7-f4da-8113a502951e"
   },
   "outputs": [
    {
     "name": "stdout",
     "output_type": "stream",
     "text": [
      "{'candidate_id': 1, 'step': 'Job Application', 'timestamp': '2024-11-01 09:00:00'}\n",
      "{'candidate_id': 1, 'step': 'CV Selected', 'timestamp': '2024-11-02 10:00:00'}\n",
      "{'candidate_id': 1, 'step': 'First Screening', 'timestamp': '2024-11-03 15:00:00'}\n",
      "{'candidate_id': 1, 'step': 'HR Interview', 'timestamp': '2024-11-05 14:00:00'}\n",
      "{'candidate_id': 1, 'step': 'Team Lead Interview', 'timestamp': '2024-11-06 16:00:00'}\n",
      "{'candidate_id': 1, 'step': 'Head of Dept Interview', 'timestamp': '2024-11-08 11:00:00'}\n",
      "{'candidate_id': 1, 'step': 'Offer', 'timestamp': '2024-11-09 10:00:00'}\n",
      "{'candidate_id': 1, 'step': 'Accepted', 'timestamp': '2024-11-10 09:00:00'}\n",
      "{'candidate_id': 2, 'step': 'Job Application', 'timestamp': '2024-11-01 12:00:00'}\n",
      "{'candidate_id': 2, 'step': 'CV Selected', 'timestamp': '2024-11-03 13:00:00'}\n",
      "{'candidate_id': 2, 'step': 'First Screening', 'timestamp': '2024-11-04 09:00:00'}\n",
      "{'candidate_id': 2, 'step': 'HR Interview', 'timestamp': '2024-11-05 10:00:00'}\n",
      "{'candidate_id': 2, 'step': 'Team Lead Interview', 'timestamp': '2024-11-07 10:00:00'}\n",
      "{'candidate_id': 2, 'step': 'Head of Dept Interview', 'timestamp': '2024-11-09 15:00:00'}\n",
      "{'candidate_id': 2, 'step': 'No Offer', 'timestamp': '2024-11-10 18:00:00'}\n",
      "{'candidate_id': 3, 'step': 'Job Application', 'timestamp': '2024-11-02 08:00:00'}\n",
      "{'candidate_id': 3, 'step': 'CV Selected', 'timestamp': '2024-11-03 09:30:00'}\n",
      "{'candidate_id': 3, 'step': 'First Screening', 'timestamp': '2024-11-04 14:00:00'}\n",
      "{'candidate_id': 3, 'step': 'HR Interview', 'timestamp': '2024-11-06 13:00:00'}\n",
      "{'candidate_id': 3, 'step': 'Team Lead Interview', 'timestamp': '2024-11-07 16:00:00'}\n",
      "{'candidate_id': 3, 'step': 'Head of Dept Interview', 'timestamp': '2024-11-09 11:00:00'}\n",
      "{'candidate_id': 3, 'step': 'Offer', 'timestamp': '2024-11-10 14:00:00'}\n",
      "{'candidate_id': 3, 'step': 'Declined', 'timestamp': '2024-11-11 10:00:00'}\n"
     ]
    }
   ],
   "source": [
    "for record in hiring_data:\n",
    "    print(record)"
   ]
  },
  {
   "cell_type": "code",
   "execution_count": 23,
   "metadata": {
    "id": "cecZl4xQ21uv"
   },
   "outputs": [],
   "source": [
    "# Convert data to DataFrame\n",
    "df = pd.DataFrame(hiring_data)\n",
    "\n",
    "# Ensure correct types for PM4Py\n",
    "df['timestamp'] = pd.to_datetime(df['timestamp'])  # Convert to datetime\n",
    "df = dataframe_utils.convert_timestamp_columns_in_df(df)  # PM4Py utility\n",
    "\n",
    "# Rename columns to PM4Py format\n",
    "df = df.rename(columns={\n",
    "    \"candidate_id\": \"case:concept:name\",\n",
    "    \"step\": \"concept:name\",\n",
    "    \"timestamp\": \"time:timestamp\"\n",
    "})\n",
    "\n",
    "# Convert DataFrame to event log\n",
    "log = log_converter.apply(df)"
   ]
  },
  {
   "cell_type": "code",
   "execution_count": 24,
   "metadata": {
    "colab": {
     "base_uri": "https://localhost:8080/",
     "height": 770
    },
    "id": "Zwpnk-qu-lOM",
    "outputId": "8ebcd92d-ebf6-4fb1-d4da-5ee5fe1b5875"
   },
   "outputs": [
    {
     "data": {
      "text/html": [
       "<div>\n",
       "<style scoped>\n",
       "    .dataframe tbody tr th:only-of-type {\n",
       "        vertical-align: middle;\n",
       "    }\n",
       "\n",
       "    .dataframe tbody tr th {\n",
       "        vertical-align: top;\n",
       "    }\n",
       "\n",
       "    .dataframe thead th {\n",
       "        text-align: right;\n",
       "    }\n",
       "</style>\n",
       "<table border=\"1\" class=\"dataframe\">\n",
       "  <thead>\n",
       "    <tr style=\"text-align: right;\">\n",
       "      <th></th>\n",
       "      <th>case:concept:name</th>\n",
       "      <th>concept:name</th>\n",
       "      <th>time:timestamp</th>\n",
       "    </tr>\n",
       "  </thead>\n",
       "  <tbody>\n",
       "    <tr>\n",
       "      <th>0</th>\n",
       "      <td>1</td>\n",
       "      <td>Job Application</td>\n",
       "      <td>2024-11-01 09:00:00+00:00</td>\n",
       "    </tr>\n",
       "    <tr>\n",
       "      <th>1</th>\n",
       "      <td>1</td>\n",
       "      <td>CV Selected</td>\n",
       "      <td>2024-11-02 10:00:00+00:00</td>\n",
       "    </tr>\n",
       "    <tr>\n",
       "      <th>2</th>\n",
       "      <td>1</td>\n",
       "      <td>First Screening</td>\n",
       "      <td>2024-11-03 15:00:00+00:00</td>\n",
       "    </tr>\n",
       "    <tr>\n",
       "      <th>3</th>\n",
       "      <td>1</td>\n",
       "      <td>HR Interview</td>\n",
       "      <td>2024-11-05 14:00:00+00:00</td>\n",
       "    </tr>\n",
       "    <tr>\n",
       "      <th>4</th>\n",
       "      <td>1</td>\n",
       "      <td>Team Lead Interview</td>\n",
       "      <td>2024-11-06 16:00:00+00:00</td>\n",
       "    </tr>\n",
       "    <tr>\n",
       "      <th>5</th>\n",
       "      <td>1</td>\n",
       "      <td>Head of Dept Interview</td>\n",
       "      <td>2024-11-08 11:00:00+00:00</td>\n",
       "    </tr>\n",
       "    <tr>\n",
       "      <th>6</th>\n",
       "      <td>1</td>\n",
       "      <td>Offer</td>\n",
       "      <td>2024-11-09 10:00:00+00:00</td>\n",
       "    </tr>\n",
       "    <tr>\n",
       "      <th>7</th>\n",
       "      <td>1</td>\n",
       "      <td>Accepted</td>\n",
       "      <td>2024-11-10 09:00:00+00:00</td>\n",
       "    </tr>\n",
       "    <tr>\n",
       "      <th>8</th>\n",
       "      <td>2</td>\n",
       "      <td>Job Application</td>\n",
       "      <td>2024-11-01 12:00:00+00:00</td>\n",
       "    </tr>\n",
       "    <tr>\n",
       "      <th>9</th>\n",
       "      <td>2</td>\n",
       "      <td>CV Selected</td>\n",
       "      <td>2024-11-03 13:00:00+00:00</td>\n",
       "    </tr>\n",
       "    <tr>\n",
       "      <th>10</th>\n",
       "      <td>2</td>\n",
       "      <td>First Screening</td>\n",
       "      <td>2024-11-04 09:00:00+00:00</td>\n",
       "    </tr>\n",
       "    <tr>\n",
       "      <th>11</th>\n",
       "      <td>2</td>\n",
       "      <td>HR Interview</td>\n",
       "      <td>2024-11-05 10:00:00+00:00</td>\n",
       "    </tr>\n",
       "    <tr>\n",
       "      <th>12</th>\n",
       "      <td>2</td>\n",
       "      <td>Team Lead Interview</td>\n",
       "      <td>2024-11-07 10:00:00+00:00</td>\n",
       "    </tr>\n",
       "    <tr>\n",
       "      <th>13</th>\n",
       "      <td>2</td>\n",
       "      <td>Head of Dept Interview</td>\n",
       "      <td>2024-11-09 15:00:00+00:00</td>\n",
       "    </tr>\n",
       "    <tr>\n",
       "      <th>14</th>\n",
       "      <td>2</td>\n",
       "      <td>No Offer</td>\n",
       "      <td>2024-11-10 18:00:00+00:00</td>\n",
       "    </tr>\n",
       "    <tr>\n",
       "      <th>15</th>\n",
       "      <td>3</td>\n",
       "      <td>Job Application</td>\n",
       "      <td>2024-11-02 08:00:00+00:00</td>\n",
       "    </tr>\n",
       "    <tr>\n",
       "      <th>16</th>\n",
       "      <td>3</td>\n",
       "      <td>CV Selected</td>\n",
       "      <td>2024-11-03 09:30:00+00:00</td>\n",
       "    </tr>\n",
       "    <tr>\n",
       "      <th>17</th>\n",
       "      <td>3</td>\n",
       "      <td>First Screening</td>\n",
       "      <td>2024-11-04 14:00:00+00:00</td>\n",
       "    </tr>\n",
       "    <tr>\n",
       "      <th>18</th>\n",
       "      <td>3</td>\n",
       "      <td>HR Interview</td>\n",
       "      <td>2024-11-06 13:00:00+00:00</td>\n",
       "    </tr>\n",
       "    <tr>\n",
       "      <th>19</th>\n",
       "      <td>3</td>\n",
       "      <td>Team Lead Interview</td>\n",
       "      <td>2024-11-07 16:00:00+00:00</td>\n",
       "    </tr>\n",
       "    <tr>\n",
       "      <th>20</th>\n",
       "      <td>3</td>\n",
       "      <td>Head of Dept Interview</td>\n",
       "      <td>2024-11-09 11:00:00+00:00</td>\n",
       "    </tr>\n",
       "    <tr>\n",
       "      <th>21</th>\n",
       "      <td>3</td>\n",
       "      <td>Offer</td>\n",
       "      <td>2024-11-10 14:00:00+00:00</td>\n",
       "    </tr>\n",
       "    <tr>\n",
       "      <th>22</th>\n",
       "      <td>3</td>\n",
       "      <td>Declined</td>\n",
       "      <td>2024-11-11 10:00:00+00:00</td>\n",
       "    </tr>\n",
       "  </tbody>\n",
       "</table>\n",
       "</div>"
      ],
      "text/plain": [
       "    case:concept:name            concept:name            time:timestamp\n",
       "0                   1         Job Application 2024-11-01 09:00:00+00:00\n",
       "1                   1             CV Selected 2024-11-02 10:00:00+00:00\n",
       "2                   1         First Screening 2024-11-03 15:00:00+00:00\n",
       "3                   1            HR Interview 2024-11-05 14:00:00+00:00\n",
       "4                   1     Team Lead Interview 2024-11-06 16:00:00+00:00\n",
       "5                   1  Head of Dept Interview 2024-11-08 11:00:00+00:00\n",
       "6                   1                   Offer 2024-11-09 10:00:00+00:00\n",
       "7                   1                Accepted 2024-11-10 09:00:00+00:00\n",
       "8                   2         Job Application 2024-11-01 12:00:00+00:00\n",
       "9                   2             CV Selected 2024-11-03 13:00:00+00:00\n",
       "10                  2         First Screening 2024-11-04 09:00:00+00:00\n",
       "11                  2            HR Interview 2024-11-05 10:00:00+00:00\n",
       "12                  2     Team Lead Interview 2024-11-07 10:00:00+00:00\n",
       "13                  2  Head of Dept Interview 2024-11-09 15:00:00+00:00\n",
       "14                  2                No Offer 2024-11-10 18:00:00+00:00\n",
       "15                  3         Job Application 2024-11-02 08:00:00+00:00\n",
       "16                  3             CV Selected 2024-11-03 09:30:00+00:00\n",
       "17                  3         First Screening 2024-11-04 14:00:00+00:00\n",
       "18                  3            HR Interview 2024-11-06 13:00:00+00:00\n",
       "19                  3     Team Lead Interview 2024-11-07 16:00:00+00:00\n",
       "20                  3  Head of Dept Interview 2024-11-09 11:00:00+00:00\n",
       "21                  3                   Offer 2024-11-10 14:00:00+00:00\n",
       "22                  3                Declined 2024-11-11 10:00:00+00:00"
      ]
     },
     "execution_count": 24,
     "metadata": {},
     "output_type": "execute_result"
    }
   ],
   "source": [
    "df"
   ]
  },
  {
   "cell_type": "code",
   "execution_count": 25,
   "metadata": {
    "colab": {
     "base_uri": "https://localhost:8080/"
    },
    "id": "KX93oYzs-rT8",
    "outputId": "41ad062c-b361-46db-a74c-96f1873f4a0e"
   },
   "outputs": [
    {
     "data": {
      "text/plain": [
       "{'attributes': {'concept:name': 1}, 'events': [{'concept:name': 'Job Application', 'time:timestamp': Timestamp('2024-11-01 09:00:00+0000', tz='UTC')}, '..', {'concept:name': 'Accepted', 'time:timestamp': Timestamp('2024-11-10 09:00:00+0000', tz='UTC')}]}"
      ]
     },
     "execution_count": 25,
     "metadata": {},
     "output_type": "execute_result"
    }
   ],
   "source": [
    "trace =log[0] ## Pathway of one candidate\n",
    "trace"
   ]
  },
  {
   "cell_type": "code",
   "execution_count": 26,
   "metadata": {
    "colab": {
     "base_uri": "https://localhost:8080/"
    },
    "id": "E-82XBf1-8Eb",
    "outputId": "1bd9e161-86bc-46a0-aa07-ad6b834749c6"
   },
   "outputs": [
    {
     "data": {
      "text/plain": [
       "{'concept:name': 'CV Selected', 'time:timestamp': Timestamp('2024-11-02 10:00:00+0000', tz='UTC')}"
      ]
     },
     "execution_count": 26,
     "metadata": {},
     "output_type": "execute_result"
    }
   ],
   "source": [
    "event = trace[1] ## Single event\n",
    "event"
   ]
  },
  {
   "cell_type": "markdown",
   "metadata": {
    "id": "J9j-TqmY21uv"
   },
   "source": [
    "### Number of candidates in each step"
   ]
  },
  {
   "cell_type": "code",
   "execution_count": 27,
   "metadata": {
    "id": "ND51Vz4C21uw"
   },
   "outputs": [],
   "source": [
    "# Calculate the number of candidates and the average time per step\n",
    "step_numbers= df.groupby('concept:name').agg(\n",
    "    candidates=('case:concept:name', 'nunique'),  # Count unique candidates at each step\n",
    ").reset_index()\n"
   ]
  },
  {
   "cell_type": "code",
   "execution_count": 28,
   "metadata": {
    "colab": {
     "base_uri": "https://localhost:8080/"
    },
    "id": "v8yvt1gM21uw",
    "outputId": "569af05c-3295-495b-dd0d-b84117931a35"
   },
   "outputs": [
    {
     "name": "stdout",
     "output_type": "stream",
     "text": [
      "             concept:name  candidates\n",
      "0                Accepted           1\n",
      "1             CV Selected           3\n",
      "2                Declined           1\n",
      "3         First Screening           3\n",
      "4            HR Interview           3\n",
      "5  Head of Dept Interview           3\n",
      "6         Job Application           3\n",
      "7                No Offer           1\n",
      "8                   Offer           2\n",
      "9     Team Lead Interview           3\n"
     ]
    }
   ],
   "source": [
    "print(step_numbers)"
   ]
  },
  {
   "cell_type": "markdown",
   "metadata": {
    "id": "WRutNr0821ux"
   },
   "source": [
    "### Explore traces and events\n",
    "- Trace: full pathway of actions for one person\n",
    "- Event: Single event"
   ]
  },
  {
   "cell_type": "code",
   "execution_count": 29,
   "metadata": {
    "colab": {
     "base_uri": "https://localhost:8080/"
    },
    "id": "2WA_h02A21uy",
    "outputId": "cc35b7e3-31d1-4baf-dc3b-cb37d14eda1c"
   },
   "outputs": [
    {
     "data": {
      "text/plain": [
       "{'attributes': {'concept:name': 1}, 'events': [{'concept:name': 'Job Application', 'time:timestamp': Timestamp('2024-11-01 09:00:00+0000', tz='UTC')}, '..', {'concept:name': 'Accepted', 'time:timestamp': Timestamp('2024-11-10 09:00:00+0000', tz='UTC')}]}"
      ]
     },
     "execution_count": 29,
     "metadata": {},
     "output_type": "execute_result"
    }
   ],
   "source": [
    "trace = log[0]\t# Get first trace\n",
    "trace"
   ]
  },
  {
   "cell_type": "code",
   "execution_count": 30,
   "metadata": {
    "colab": {
     "base_uri": "https://localhost:8080/"
    },
    "id": "LBaDaCvQ21uy",
    "outputId": "3dc51c7e-fb6f-4476-d295-6c42521ed9c4"
   },
   "outputs": [
    {
     "data": {
      "text/plain": [
       "{'concept:name': 'Job Application', 'time:timestamp': Timestamp('2024-11-01 09:00:00+0000', tz='UTC')}"
      ]
     },
     "execution_count": 30,
     "metadata": {},
     "output_type": "execute_result"
    }
   ],
   "source": [
    "event = trace[0]\t# Get first event in trace\n",
    "event"
   ]
  },
  {
   "cell_type": "code",
   "execution_count": 31,
   "metadata": {
    "colab": {
     "base_uri": "https://localhost:8080/"
    },
    "id": "OqnAuXPV21uy",
    "outputId": "3a7416ce-b907-43b7-fc42-2b1cc5861164"
   },
   "outputs": [
    {
     "name": "stdout",
     "output_type": "stream",
     "text": [
      "Candidate 1 ,Event 1: Job Application, Timestamp: 2024-11-01 09:00:00+00:00\n",
      "Candidate 1 ,Event 2: CV Selected, Timestamp: 2024-11-02 10:00:00+00:00\n",
      "Candidate 1 ,Event 3: First Screening, Timestamp: 2024-11-03 15:00:00+00:00\n",
      "Candidate 1 ,Event 4: HR Interview, Timestamp: 2024-11-05 14:00:00+00:00\n",
      "Candidate 1 ,Event 5: Team Lead Interview, Timestamp: 2024-11-06 16:00:00+00:00\n",
      "Candidate 1 ,Event 6: Head of Dept Interview, Timestamp: 2024-11-08 11:00:00+00:00\n",
      "Candidate 1 ,Event 7: Offer, Timestamp: 2024-11-09 10:00:00+00:00\n",
      "Candidate 1 ,Event 8: Accepted, Timestamp: 2024-11-10 09:00:00+00:00\n",
      "Candidate 2 ,Event 1: Job Application, Timestamp: 2024-11-01 12:00:00+00:00\n",
      "Candidate 2 ,Event 2: CV Selected, Timestamp: 2024-11-03 13:00:00+00:00\n",
      "Candidate 2 ,Event 3: First Screening, Timestamp: 2024-11-04 09:00:00+00:00\n",
      "Candidate 2 ,Event 4: HR Interview, Timestamp: 2024-11-05 10:00:00+00:00\n",
      "Candidate 2 ,Event 5: Team Lead Interview, Timestamp: 2024-11-07 10:00:00+00:00\n",
      "Candidate 2 ,Event 6: Head of Dept Interview, Timestamp: 2024-11-09 15:00:00+00:00\n",
      "Candidate 2 ,Event 7: No Offer, Timestamp: 2024-11-10 18:00:00+00:00\n",
      "Candidate 3 ,Event 1: Job Application, Timestamp: 2024-11-02 08:00:00+00:00\n",
      "Candidate 3 ,Event 2: CV Selected, Timestamp: 2024-11-03 09:30:00+00:00\n",
      "Candidate 3 ,Event 3: First Screening, Timestamp: 2024-11-04 14:00:00+00:00\n",
      "Candidate 3 ,Event 4: HR Interview, Timestamp: 2024-11-06 13:00:00+00:00\n",
      "Candidate 3 ,Event 5: Team Lead Interview, Timestamp: 2024-11-07 16:00:00+00:00\n",
      "Candidate 3 ,Event 6: Head of Dept Interview, Timestamp: 2024-11-09 11:00:00+00:00\n",
      "Candidate 3 ,Event 7: Offer, Timestamp: 2024-11-10 14:00:00+00:00\n",
      "Candidate 3 ,Event 8: Declined, Timestamp: 2024-11-11 10:00:00+00:00\n"
     ]
    }
   ],
   "source": [
    "t = 1\n",
    "e = 1\n",
    "\n",
    "for trace in log:\n",
    "    e = 1\n",
    "    for event in trace:\n",
    "        case_name = event[\"concept:name\"]  # Case name attribute\n",
    "        timestamp = event[\"time:timestamp\"]  # Timestamp attribute\n",
    "        print(f\"Candidate {t} ,Event {e}: {case_name}, Timestamp: {timestamp}\")\n",
    "        e += 1\n",
    "    t += 1"
   ]
  },
  {
   "cell_type": "markdown",
   "metadata": {
    "id": "URzfmMDZ21uz"
   },
   "source": [
    "### Process mining (simple examples)"
   ]
  },
  {
   "cell_type": "markdown",
   "metadata": {
    "id": "eC4bGbND21uz"
   },
   "source": [
    "### 1. Petri net\n",
    "- A graphical representation of process and setps"
   ]
  },
  {
   "cell_type": "code",
   "execution_count": 32,
   "metadata": {
    "id": "gLR8lSgS21uz"
   },
   "outputs": [],
   "source": [
    "# Discover the process model using Alpha Miner\n",
    "net, initial_marking, final_marking = alpha_miner.apply(log)"
   ]
  },
  {
   "cell_type": "code",
   "execution_count": 33,
   "metadata": {
    "colab": {
     "base_uri": "https://localhost:8080/",
     "height": 124
    },
    "id": "r3rXgX-e21uz",
    "outputId": "669289bc-dc8b-403f-c982-7e7e3cf64de0"
   },
   "outputs": [
    {
     "data": {
      "image/png": "[encoded data removed]",
      "text/plain": [
       "<IPython.core.display.Image object>"
      ]
     },
     "metadata": {},
     "output_type": "display_data"
    }
   ],
   "source": [
    "# Visualize the process model\n",
    "gviz = pn_visualizer.apply(net, initial_marking, final_marking)\n",
    "pn_visualizer.view(gviz)"
   ]
  },
  {
   "cell_type": "markdown",
   "metadata": {
    "id": "Z7CgTYih21uz"
   },
   "source": [
    "### Performance analysis"
   ]
  },
  {
   "cell_type": "code",
   "execution_count": 34,
   "metadata": {
    "colab": {
     "base_uri": "https://localhost:8080/",
     "height": 143
    },
    "id": "tFpgf46421uz",
    "outputId": "fa913f29-9a59-4379-f5fc-11f7589e23e7"
   },
   "outputs": [
    {
     "data": {
      "text/html": [
       "<div>\n",
       "<style scoped>\n",
       "    .dataframe tbody tr th:only-of-type {\n",
       "        vertical-align: middle;\n",
       "    }\n",
       "\n",
       "    .dataframe tbody tr th {\n",
       "        vertical-align: top;\n",
       "    }\n",
       "\n",
       "    .dataframe thead th {\n",
       "        text-align: right;\n",
       "    }\n",
       "</style>\n",
       "<table border=\"1\" class=\"dataframe\">\n",
       "  <thead>\n",
       "    <tr style=\"text-align: right;\">\n",
       "      <th></th>\n",
       "      <th>Candidate</th>\n",
       "      <th>Num_Steps</th>\n",
       "      <th>Total_Time_Hours</th>\n",
       "      <th>Avg_Time_Per_Step_Hours</th>\n",
       "    </tr>\n",
       "  </thead>\n",
       "  <tbody>\n",
       "    <tr>\n",
       "      <th>0</th>\n",
       "      <td>1</td>\n",
       "      <td>8</td>\n",
       "      <td>216.0</td>\n",
       "      <td>27.0</td>\n",
       "    </tr>\n",
       "    <tr>\n",
       "      <th>1</th>\n",
       "      <td>2</td>\n",
       "      <td>7</td>\n",
       "      <td>222.0</td>\n",
       "      <td>31.7</td>\n",
       "    </tr>\n",
       "    <tr>\n",
       "      <th>2</th>\n",
       "      <td>3</td>\n",
       "      <td>8</td>\n",
       "      <td>218.0</td>\n",
       "      <td>27.2</td>\n",
       "    </tr>\n",
       "  </tbody>\n",
       "</table>\n",
       "</div>"
      ],
      "text/plain": [
       "   Candidate  Num_Steps  Total_Time_Hours  Avg_Time_Per_Step_Hours\n",
       "0          1          8             216.0                     27.0\n",
       "1          2          7             222.0                     31.7\n",
       "2          3          8             218.0                     27.2"
      ]
     },
     "execution_count": 34,
     "metadata": {},
     "output_type": "execute_result"
    }
   ],
   "source": [
    "# Iterate over each trace in the event log\n",
    "results = []\n",
    "\n",
    "for i, trace in enumerate(log, 1):\n",
    "    candidate = i   # Candidate number\n",
    "    num_steps = len(trace)  # Count the number of steps for the candidate\n",
    "    start_time = trace[0]['time:timestamp']  # Start time of the candidate's process\n",
    "    end_time = trace[-1]['time:timestamp']  # End time of the candidate's process\n",
    "    duration = (end_time - start_time).total_seconds() / 3600  # Duration in hours\n",
    "    avg_time = round(duration / num_steps, 1)  # Average time per step (in hours)\n",
    "    duration = round(duration, 1)  # Round total duration to 1 decimal place\n",
    "\n",
    "    # Collect the results for each candidate\n",
    "    results.append({\n",
    "        'Candidate': candidate,\n",
    "        'Num_Steps': num_steps,\n",
    "        'Total_Time_Hours': duration,\n",
    "        'Avg_Time_Per_Step_Hours': avg_time\n",
    "    })\n",
    "\n",
    "# Create a DataFrame from the results\n",
    "df_results = pd.DataFrame(results)\n",
    "\n",
    "# Print the DataFrame\n",
    "df_results\n"
   ]
  },
  {
   "cell_type": "markdown",
   "metadata": {
    "id": "oCsM_Y3e21uz"
   },
   "source": [
    "### Time statistics between steps"
   ]
  },
  {
   "cell_type": "code",
   "execution_count": 35,
   "metadata": {
    "colab": {
     "base_uri": "https://localhost:8080/"
    },
    "id": "N9hXs96u21uz",
    "outputId": "0cc66f85-2b35-4e6d-bca2-9df34bf6d281"
   },
   "outputs": [
    {
     "name": "stdout",
     "output_type": "stream",
     "text": [
      "             Previous_Step            Current_Step  Time_Spent_Hours\n",
      "0          Job Application             CV Selected              25.0\n",
      "1              CV Selected         First Screening              29.0\n",
      "2          First Screening            HR Interview              47.0\n",
      "3             HR Interview     Team Lead Interview              26.0\n",
      "4      Team Lead Interview  Head of Dept Interview              43.0\n",
      "5   Head of Dept Interview                   Offer              23.0\n",
      "6                    Offer                Accepted              23.0\n",
      "7          Job Application             CV Selected              49.0\n",
      "8              CV Selected         First Screening              20.0\n",
      "9          First Screening            HR Interview              25.0\n",
      "10            HR Interview     Team Lead Interview              48.0\n",
      "11     Team Lead Interview  Head of Dept Interview              53.0\n",
      "12  Head of Dept Interview                No Offer              27.0\n",
      "13         Job Application             CV Selected              25.5\n",
      "14             CV Selected         First Screening              28.5\n",
      "15         First Screening            HR Interview              47.0\n",
      "16            HR Interview     Team Lead Interview              27.0\n",
      "17     Team Lead Interview  Head of Dept Interview              43.0\n",
      "18  Head of Dept Interview                   Offer              27.0\n",
      "19                   Offer                Declined              20.0\n"
     ]
    }
   ],
   "source": [
    "# Initialize a list to store the results\n",
    "step_time_stats = []\n",
    "\n",
    "# Iterate over each trace (candidate's events)\n",
    "for trace in log:\n",
    "    for i in range(1, len(trace)):\n",
    "        # Get the current step and previous step\n",
    "        prev_event = trace[i-1]\n",
    "        curr_event = trace[i]\n",
    "\n",
    "        # Extract the event names and timestamps\n",
    "        prev_step = prev_event['concept:name']\n",
    "        curr_step = curr_event['concept:name']\n",
    "        prev_timestamp = prev_event['time:timestamp']\n",
    "        curr_timestamp = curr_event['time:timestamp']\n",
    "\n",
    "        # Calculate the time difference (in hours) between the previous and current step\n",
    "        time_diff = (curr_timestamp - prev_timestamp).total_seconds() / 3600  # Convert to hours\n",
    "\n",
    "        # Append the result to the list\n",
    "        step_time_stats.append({\n",
    "            'Previous_Step': prev_step,\n",
    "            'Current_Step': curr_step,\n",
    "            'Time_Spent_Hours': round(time_diff, 1)  # Round to 1 decimal place\n",
    "        })\n",
    "\n",
    "# Convert the results to a DataFrame for easier analysis\n",
    "df_step_time_stats = pd.DataFrame(step_time_stats)\n",
    "\n",
    "# Print the DataFrame\n",
    "print(df_step_time_stats)"
   ]
  },
  {
   "cell_type": "code",
   "execution_count": 36,
   "metadata": {
    "id": "t3Y5JI-E21u0"
   },
   "outputs": [],
   "source": [
    "### We have time between each steap (for each candidate)\n",
    "\n",
    "# From this we can calculate average lenght of each step"
   ]
  }
 ],
 "metadata": {
  "colab": {
   "provenance": []
  },
  "kernelspec": {
   "display_name": "pip_only",
   "language": "python",
   "name": "python3"
  },
  "language_info": {
   "codemirror_mode": {
    "name": "ipython",
    "version": 3
   },
   "file_extension": ".py",
   "mimetype": "text/x-python",
   "name": "python",
   "nbconvert_exporter": "python",
   "pygments_lexer": "ipython3",
   "version": "3.8.18"
  }
 },
 "nbformat": 4,
 "nbformat_minor": 0
}
